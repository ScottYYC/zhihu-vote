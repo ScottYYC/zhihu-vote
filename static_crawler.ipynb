{
 "cells": [
  {
   "cell_type": "markdown",
   "metadata": {},
   "source": [
    "# 爬取静态网页的一个实例"
   ]
  },
  {
   "cell_type": "markdown",
   "metadata": {},
   "source": [
    "## 导入requests包和BeautifulSoup模块"
   ]
  },
  {
   "cell_type": "code",
   "execution_count": 1,
   "metadata": {
    "collapsed": true
   },
   "outputs": [],
   "source": [
    "import requests\n",
    "from bs4 import BeautifulSoup\n",
    "\n",
    "url = \"http://www.52xlzx.com/guestbook/?fid=0&page=70\"\n",
    "\n",
    "headers = {\n",
    "    'User-Agent':'Mozilla/5.0 (Windows NT 10.0; WOW64) AppleWebKit/537.36 (KHTML, like Gecko) Chrome/59.0.3071.104 Safari/537.36',\n",
    "}\n",
    "resp = requests.get(url, headers=headers)"
   ]
  },
  {
   "cell_type": "code",
   "execution_count": 2,
   "metadata": {},
   "outputs": [
    {
     "data": {
      "text/plain": [
       "200"
      ]
     },
     "execution_count": 2,
     "metadata": {},
     "output_type": "execute_result"
    }
   ],
   "source": [
    "resp.status_code"
   ]
  },
  {
   "cell_type": "markdown",
   "metadata": {},
   "source": [
    "## 测试单个页面的爬取结果，处理出现的错误"
   ]
  },
  {
   "cell_type": "code",
   "execution_count": 3,
   "metadata": {
    "scrolled": true
   },
   "outputs": [
    {
     "name": "stdout",
     "output_type": "stream",
     "text": [
      "20\n",
      "有得抑郁症的人为什么早上不起床\n",
      "1\n"
     ]
    }
   ],
   "source": [
    "resp.encoding = 'gbk'\n",
    "soup = BeautifulSoup(resp.text, 'html.parser')\n",
    "liuyan_list = soup.find_all('table', {'class':'guestbook'})\n",
    "print(len(liuyan_list))\n",
    "string1 = liuyan_list[9].find('td',{'class':'content'}).text.split('留言回复')[0].strip()\n",
    "print(string1)\n",
    "print(len(liuyan_list[9].find('td',{'class':'content'}).text.split('留言回复')))\n",
    "#string2 = liuyan_list[9].find('td',{'class':'content'}).text.split('留言回复')[1].split(\"(署名\")[0].strip()\n",
    "#string3 = \"署名\" + liuyan_list[0].find('td',{'class':'content'}).text.split('留言回复')[1].split(\"(署名\")[1][:-1].strip()"
   ]
  },
  {
   "cell_type": "markdown",
   "metadata": {},
   "source": [
    "## 写循环爬取所有页面"
   ]
  },
  {
   "cell_type": "code",
   "execution_count": 4,
   "metadata": {
    "collapsed": true
   },
   "outputs": [],
   "source": [
    "import pandas as pd\n",
    "url_list = []\n",
    "data_list1 = []\n",
    "data_list2 = []\n",
    "data_list3 = []\n",
    "\n",
    "for i in range(1,272):\n",
    "    url = \"http://www.52xlzx.com/guestbook/?fid=0&page={}\".format(i)\n",
    "    url_list.append(url)\n",
    "\n",
    "def getInfo(urlList):\n",
    "    n = 1\n",
    "    for url in urlList:\n",
    "        resp = requests.get(url, headers=headers)\n",
    "        soup = BeautifulSoup(resp.text, 'html.parser')\n",
    "        liuyan_list = soup.find_all('table', {'class':'guestbook'})\n",
    "        m = 1\n",
    "        for liuyan in liuyan_list:\n",
    "            data1 = liuyan.find('td',{'class':'content'}).text.split('留言回复')[0].strip()\n",
    "            if len(liuyan.find('td',{'class':'content'}).text.split('留言回复')) == 1:\n",
    "                data2 = \"\"\n",
    "                data3 = \"\"\n",
    "            else:\n",
    "                data2 = liuyan.find('td',{'class':'content'}).text.split('留言回复')[1].split(\"(署名\")[0].strip()\n",
    "                data3 = \"署名\" + liuyan.find('td',{'class':'content'}).text.split('留言回复')[1].split(\"(署名\")[1][:-1].strip()\n",
    "            data_list1.append(data3)\n",
    "            data_list2.append(data1)\n",
    "            data_list3.append(data2)\n",
    "            #print(\"第{}页第{}条已抓取成功\".format(n,m))\n",
    "            m = m + 1\n",
    "        n = n + 1"
   ]
  },
  {
   "cell_type": "code",
   "execution_count": null,
   "metadata": {
    "collapsed": true
   },
   "outputs": [],
   "source": [
    "getInfo(url_list)"
   ]
  },
  {
   "cell_type": "code",
   "execution_count": null,
   "metadata": {
    "collapsed": true
   },
   "outputs": [],
   "source": [
    "data = {\"署名/日期\":data_list1, \"问题\":data_list2, \"回复\":data_list3}\n",
    "df = pd.DataFrame(data, columns=[\"署名/日期\", \"问题\", \"回复\"])\n",
    "df.head()"
   ]
  },
  {
   "cell_type": "code",
   "execution_count": null,
   "metadata": {
    "collapsed": true
   },
   "outputs": [],
   "source": [
    "df.shape"
   ]
  },
  {
   "cell_type": "markdown",
   "metadata": {},
   "source": [
    "## 写入到本地"
   ]
  },
  {
   "cell_type": "code",
   "execution_count": null,
   "metadata": {
    "collapsed": true
   },
   "outputs": [],
   "source": [
    "df.to_csv('liuyan.csv', sep='\\t', index=False)"
   ]
  }
 ],
 "metadata": {
  "kernelspec": {
   "display_name": "Python 3",
   "language": "python",
   "name": "python3"
  },
  "language_info": {
   "codemirror_mode": {
    "name": "ipython",
    "version": 3
   },
   "file_extension": ".py",
   "mimetype": "text/x-python",
   "name": "python",
   "nbconvert_exporter": "python",
   "pygments_lexer": "ipython3",
   "version": "3.6.1"
  },
  "toc": {
   "colors": {
    "hover_highlight": "#DAA520",
    "navigate_num": "#000000",
    "navigate_text": "#333333",
    "running_highlight": "#FF0000",
    "selected_highlight": "#FFD700",
    "sidebar_border": "#EEEEEE",
    "wrapper_background": "#FFFFFF"
   },
   "moveMenuLeft": true,
   "nav_menu": {
    "height": "12px",
    "width": "252px"
   },
   "navigate_menu": true,
   "number_sections": true,
   "sideBar": true,
   "threshold": 4,
   "toc_cell": false,
   "toc_section_display": "block",
   "toc_window_display": false,
   "widenNotebook": false
  }
 },
 "nbformat": 4,
 "nbformat_minor": 2
}
